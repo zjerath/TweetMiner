{
 "cells": [
  {
   "cell_type": "code",
   "execution_count": 1,
   "metadata": {},
   "outputs": [
    {
     "name": "stdout",
     "output_type": "stream",
     "text": [
      "                   id           timestamp    user_id user_screen_name  \\\n",
      "0  290620657987887104 2013-01-14 00:45:38  557374298        Dozaaa_xo   \n",
      "1  290620657887219713 2013-01-14 00:45:38   14648726     theAmberShow   \n",
      "2  290620657828524032 2013-01-14 00:45:38   35498686         SweetyPW   \n",
      "3  290620657799159809 2013-01-14 00:45:38  144430208   _NicoleEdwards   \n",
      "4  290620657778188288 2013-01-14 00:45:38  134953223    lolaogunnaike   \n",
      "\n",
      "                                                text  \n",
      "0             JLo's dress! #eredcarpet #GoldenGlobes  \n",
      "1  What's making Sofia Vergara's boobs stay like ...  \n",
      "2  RT @FabSugar: Kerry Washington is EVERYTHING. ...  \n",
      "3     Anne Hathaway has got me living. #GoldenGlobes  \n",
      "4  Jennifer Lopez's lace dress? Thoughts? #Golden...  \n"
     ]
    }
   ],
   "source": [
    "import pandas as pd\n",
    "\n",
    "import json\n",
    "\n",
    "with open('gg2013.json', 'r') as file:\n",
    "    data = json.load(file)\n",
    "\n",
    "# Convert the JSON data to a pandas DataFrame\n",
    "df = pd.DataFrame(data)\n",
    "\n",
    "# Extract user information into separate columns\n",
    "df['user_screen_name'] = df['user'].apply(lambda x: x['screen_name'])\n",
    "df['user_id'] = df['user'].apply(lambda x: x['id'])\n",
    "\n",
    "# Drop the original 'user' column as we've extracted the needed information\n",
    "df = df.drop('user', axis=1)\n",
    "\n",
    "# Convert timestamp_ms to datetime\n",
    "df['timestamp'] = pd.to_datetime(df['timestamp_ms'], unit='ms')\n",
    "\n",
    "# Drop the original timestamp_ms column\n",
    "df = df.drop('timestamp_ms', axis=1)\n",
    "\n",
    "# Reorder columns for better readability\n",
    "df = df[['id', 'timestamp', 'user_id', 'user_screen_name', 'text']]\n",
    "\n",
    "# Display the first few rows of the DataFrame\n",
    "print(df.head())"
   ]
  },
  {
   "cell_type": "markdown",
   "metadata": {},
   "source": [
    "Planned output: \n",
    "{ \n",
    "    Award: Best Picture\n",
    "    Nominees: [a, b, c, d, e]\n",
    "    Presenters: [d, e, f]\n",
    "    Winner: {\n",
    "        {\n",
    "            Name: John\n",
    "            Number of Tweets: 5\n",
    "        },\n",
    "        {\n",
    "            Name: Jane\n",
    "            Number of Tweets: 3\n",
    "        },\n",
    "        ...\n",
    "    }\n",
    "}"
   ]
  }
 ],
 "metadata": {
  "kernelspec": {
   "display_name": "TweetMiner",
   "language": "python",
   "name": "python3"
  },
  "language_info": {
   "codemirror_mode": {
    "name": "ipython",
    "version": 3
   },
   "file_extension": ".py",
   "mimetype": "text/x-python",
   "name": "python",
   "nbconvert_exporter": "python",
   "pygments_lexer": "ipython3",
   "version": "3.11.5"
  }
 },
 "nbformat": 4,
 "nbformat_minor": 2
}
